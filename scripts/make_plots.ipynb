{
  "cells": [
    {
      "cell_type": "raw",
      "metadata": {},
      "source": [
        "---\n",
        "title: \"Two group plots\"\n",
        "format: html\n",
        "---"
      ],
      "id": "1392042b"
    },
    {
      "cell_type": "code",
      "metadata": {},
      "source": [
        "import pandas as pd\n",
        "import polars as pl\n",
        "import altair as alt\n",
        "import numpy as np"
      ],
      "id": "dc59e1eb",
      "execution_count": null,
      "outputs": []
    },
    {
      "cell_type": "markdown",
      "metadata": {},
      "source": [
        "Simple modeling results for 2 group model with the following parameters:\n",
        "\n",
        "  n_groups: 2    # residents + HCW\n",
        "  beta: [[0.1, 0.05], [0.05, 0.3]]\n",
        "  sigma: 0.25    # 1/latent_duration\n",
        "  gamma: 0.143   # 1/infectious_duration\n",
        "  iota: 0.0      # spontaneous infection rate\n",
        "  N: [78, 22]    # population sizes\n",
        "  I0: [1, 1]     # initially infected\n",
        "  dt: 1.0        # model units (one day)\n",
        "  tf: 200        # total time modeled\n",
        "  tl: 200        # times the model is evaluated\n",
        "  n_replicates: 10\n",
        "  seed: 1\n",
        "\n",
        "In this model, the force of infection from group 2 > for group 1. So we would expect a higher attack rate among group 2 than group 1 on average. Note that group 1 is larger than group 2, so we would still likely expect more infections total in group 1.\n"
      ],
      "id": "007b9a0f"
    },
    {
      "cell_type": "code",
      "metadata": {},
      "source": [
        "# overall cumulative plot\n",
        "df = pd.read_csv(\"../output/results_two_group.csv\")\n",
        "df['new_infections'] = df.groupby(['t', 'replicate'])['Y'].transform('sum')\n",
        "df_total = df.drop_duplicates(subset=['t', 'replicate'])\n",
        "\n",
        "print(df_total)\n",
        "chart = alt.Chart(df_total).mark_line().encode(\n",
        "    x='t:Q',\n",
        "    y=alt.Y('new_infections:Q', title='Cumulative infections'),\n",
        "    color='replicate:N'\n",
        ").display()"
      ],
      "id": "de1f5661",
      "execution_count": null,
      "outputs": []
    },
    {
      "cell_type": "code",
      "metadata": {},
      "source": [
        "# overall incidence plot weekly\n",
        "df = pd.read_csv(\"../output/results_two_group.csv\")\n",
        "df['incidence'] = df.groupby(['replicate', 'group'])['Y'].diff().fillna(0)\n",
        "df['week'] = (df['t'] // 7).astype(int)\n",
        "df_weekly = df.groupby(['week', 'replicate'])['incidence'].sum().reset_index()\n",
        "\n",
        "chart = alt.Chart(df_weekly).mark_line().encode(\n",
        "    x='week:Q',\n",
        "    y='incidence:Q',\n",
        "    color='replicate:N'\n",
        ").properties(\n",
        ").display()\n"
      ],
      "id": "d583c5cd",
      "execution_count": null,
      "outputs": []
    },
    {
      "cell_type": "code",
      "metadata": {},
      "source": [
        "df = pd.read_csv(\"../output/results_two_group.csv\")\n",
        "df_final_ar = df[df['t'] == df['t'].max()]\n",
        "\n",
        "# group 0 has 78 people and group 1 has 22\n",
        "df_final_ar.loc[df_final_ar['group'] == 0, 'Y'] /= 78\n",
        "df_final_ar.loc[df_final_ar['group'] == 1, 'Y'] /= 22\n",
        "\n",
        "chart = alt.Chart(df_final_ar).mark_boxplot().encode(\n",
        "    x='group:N',\n",
        "    y=alt.Y('Y:Q', title='Attack Rate')\n",
        ").properties(\n",
        "    width = 300,\n",
        "    height = 300\n",
        ").display()\n"
      ],
      "id": "5426c51b",
      "execution_count": null,
      "outputs": []
    },
    {
      "cell_type": "markdown",
      "metadata": {},
      "source": [
        "# how to some basic inference with this model\n",
        "\n",
        "Let's say we have some outbreak that looks like replicate 5 below:\n"
      ],
      "id": "f3d75b5f"
    },
    {
      "cell_type": "code",
      "metadata": {},
      "source": [
        "# Make some Fake data\n",
        "fake_outbreak = df[df['replicate'] == 5]\n",
        "fake_outbreak = fake_outbreak.groupby(['t', 'group'])['Y'].sum().reset_index()\n",
        "fake_outbreak['day'] = (fake_outbreak['t'] // 1).astype(int)\n",
        "fake_outbreak = fake_outbreak.groupby(['day'])['Y'].sum().reset_index()\n",
        "\n",
        "# Create the plot using Altair\n",
        "chart = alt.Chart(fake_outbreak).mark_line().encode(\n",
        "    x=alt.X('day:Q', title='Day'),\n",
        "    y=alt.Y('Y:Q', title='Cumulative Infections')\n",
        ").properties(\n",
        "    title='Fake dataset',\n",
        "    width=600,\n",
        "    height=400\n",
        ").display()\n",
        "\n",
        "\n",
        "fake_outbreak.to_csv(\"../data/fake_outbreak.csv\", index=False)"
      ],
      "id": "26cac1e0",
      "execution_count": null,
      "outputs": []
    },
    {
      "cell_type": "markdown",
      "metadata": {},
      "source": [
        "Let's say we want to calibrate group 2 to group 2 value in the beta matrix. The \"true value\", or the value used to simulate the fake data, was 0.3. Let's see if we can find any evidence for beta around that and we'll start with a uniform from 0.01 to 1.\n"
      ],
      "id": "22fb3ce5"
    },
    {
      "cell_type": "code",
      "metadata": {},
      "source": [
        "ngm = np.array([[0.05, 0.05], [0.05, 0.3]])  / 0.143\n",
        "e = np.linalg.eig(ngm)\n",
        "i = np.argmax(np.abs(e.eigenvalues))\n",
        "R0 = e.eigenvalues[i]\n",
        "vector = abs(e.eigenvectors[:, i]) / sum(abs(e.eigenvectors[:, i]))\n",
        "\n",
        "print(round(R0, 3))\n",
        "print(vector)"
      ],
      "id": "8901766c",
      "execution_count": null,
      "outputs": []
    },
    {
      "cell_type": "markdown",
      "metadata": {},
      "source": [
        "For context, the R0 is 2.17 and the relative distribution of infectious should be around 20% group 1 and 80% group 2 with the \"true\" parameters. If that beta_{2_2} is reduced from 0.3 or increased from 0.3, then we'd expect lower or higher R0s that hopefully are different enough from the underlying parameters that we could detect it with basic stats.\n"
      ],
      "id": "72927d5e"
    },
    {
      "cell_type": "code",
      "metadata": {},
      "source": [
        "# Read the CSV files using Pandas\n",
        "abc_summary = pd.read_csv(\"../output/abc_summary.csv\")\n",
        "results = pd.read_csv(\"../output/results_100_beta.csv\")\n",
        "\n",
        "# Merge the DataFrames by replicate\n",
        "merged_df = pd.merge(results, abc_summary[['replicate', 'score']], on='replicate', how='left')\n",
        "\n",
        "# Replace score values with 1 if not empty, else 0\n",
        "merged_df['score'] = merged_df['score'].notna().astype(int)\n",
        "\n",
        "abc_results = merged_df.drop_duplicates(subset=['replicate'])\n",
        "\n",
        "chart = alt.Chart(abc_results).mark_bar(opacity=0.5\n",
        "    ).encode(\n",
        "        x=alt.X('beta_2_value:Q', bin=alt.Bin(step=0.075), title='Beta_2_2'),\n",
        "        y=alt.Y('count()', title='Frequency'),\n",
        "        color=alt.Color('score:N', scale=alt.Scale(domain=[0, 1],\n",
        "                        range=['red', 'blue']),\n",
        "                        legend=alt.Legend(title=\"Score\"))\n",
        "    ).properties(\n",
        "        width=400,\n",
        "        height=400\n",
        "    ).display()"
      ],
      "id": "0e681766",
      "execution_count": null,
      "outputs": []
    },
    {
      "cell_type": "markdown",
      "metadata": {},
      "source": [
        "In this very quick example, the posterior samples are slightly larger than the true value of 0.3.\n"
      ],
      "id": "ea24b192"
    },
    {
      "cell_type": "code",
      "metadata": {},
      "source": [
        "fake_data = pd.read_csv(\"../data/fake_outbreak.csv\").rename(columns={\"Y\": \"new_infections\"})\n",
        "\n",
        "# Merge the DataFrames by replicate\n",
        "merged_df = pd.merge(results, abc_summary[['replicate', 'score']], on='replicate', how='left')\n",
        "\n",
        "# Replace score values with 1 if not empty, else 0\n",
        "merged_df['score'] = merged_df['score'].notna().astype(int)\n",
        "\n",
        "# Summarize new infections by day and replicate\n",
        "merged_df['day'] = np.floor(merged_df['t']).astype(int)\n",
        "merged_df['new_infections'] = merged_df.groupby(['day', 'replicate'])['Y'].transform('sum')\n",
        "merged_df = merged_df[['day', 'new_infections', 'replicate', 'score']]\n",
        "merged_df = merged_df[merged_df['day'] < 104]\n",
        "print(merged_df)\n",
        "\n",
        "\n",
        "alt.data_transformers.disable_max_rows()\n",
        "\n",
        "# Create a line plot of t vs new_infections for the replicates\n",
        "line_chart = alt.Chart(merged_df).mark_line().encode(\n",
        "    x='day:Q',\n",
        "    y=alt.Y('new_infections:Q', title='Cumulative Infections'),\n",
        "    color='score:N',\n",
        "    detail = 'replicate:N'\n",
        ")\n",
        "\n",
        "# Create a scatter plot of t vs new_infections for the fake data\n",
        "scatter_chart = alt.Chart(fake_data).mark_point(color='black').encode(\n",
        "    x='day:Q',\n",
        "    y='new_infections:Q'\n",
        ")\n",
        "\n",
        "\n",
        "# Overlay the scatter plot on the line plot\n",
        "chart = alt.layer(line_chart, scatter_chart).properties(\n",
        "    title='Cumulative Infections Over Time with Fake Data Points',\n",
        "    width=600,\n",
        "    height=400\n",
        ")\n",
        "\n",
        "chart.display()"
      ],
      "id": "166c24cb",
      "execution_count": null,
      "outputs": []
    }
  ],
  "metadata": {
    "kernelspec": {
      "display_name": "Python 3",
      "language": "python",
      "name": "python3"
    }
  },
  "nbformat": 4,
  "nbformat_minor": 5
}